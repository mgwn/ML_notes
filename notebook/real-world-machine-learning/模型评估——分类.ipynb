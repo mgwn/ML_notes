{
 "cells": [
  {
   "cell_type": "markdown",
   "metadata": {},
   "source": [
    "# 模型评估——分类"
   ]
  },
  {
   "cell_type": "markdown",
   "metadata": {},
   "source": [
    "通过绘制决策边界对分类器可视化十分有利，给定两个特征就可以绘制出分类边界\n",
    "![3-7 决策边界](./figure/3-7.png)"
   ]
  },
  {
   "cell_type": "markdown",
   "metadata": {},
   "source": [
    "### 混淆矩阵（Confusion matrix)"
   ]
  },
  {
   "cell_type": "markdown",
   "metadata": {},
   "source": [
    "![4-14 混淆矩阵](./figure/4-14.png)"
   ]
  },
  {
   "cell_type": "markdown",
   "metadata": {},
   "source": [
    "![4-19 多分类混淆矩阵](./figure/4-19.png)"
   ]
  },
  {
   "cell_type": "markdown",
   "metadata": {},
   "source": [
    "### ROC曲线与AUC指标"
   ]
  },
  {
   "cell_type": "markdown",
   "metadata": {},
   "source": [
    "**ROC曲线**：FPR(假正率）为X轴，TPR(真正率)为Y轴。由不同阈值为点所构成的曲线  \n",
    "**AUC**: ROC曲线的线下面积， 越大分类效果越好"
   ]
  },
  {
   "cell_type": "markdown",
   "metadata": {},
   "source": [
    "通常将AUC直接画到ROC曲线图上"
   ]
  },
  {
   "cell_type": "markdown",
   "metadata": {},
   "source": [
    "![4-20 多分类ROC及AUC](./figure/4-20.png)"
   ]
  }
 ],
 "metadata": {
  "kernelspec": {
   "display_name": "Python [conda env:keraspy36]",
   "language": "python",
   "name": "conda-env-keraspy36-py"
  },
  "language_info": {
   "codemirror_mode": {
    "name": "ipython",
    "version": 3
   },
   "file_extension": ".py",
   "mimetype": "text/x-python",
   "name": "python",
   "nbconvert_exporter": "python",
   "pygments_lexer": "ipython3",
   "version": "3.6.4"
  }
 },
 "nbformat": 4,
 "nbformat_minor": 2
}
