{
 "cells": [
  {
   "cell_type": "markdown",
   "metadata": {},
   "source": [
    "# 对数概率"
   ]
  },
  {
   "cell_type": "markdown",
   "metadata": {},
   "source": [
    "发生率\n",
    "$Odds(A) = P(A)/P(~A) = A的概率/非A的概率$\n",
    "\n",
    "$\\log(Odds(A))$即为A的对数概率"
   ]
  },
  {
   "cell_type": "markdown",
   "metadata": {},
   "source": [
    "对数概率接近$-\\infty$表示不可能事件，接近$\\infty$表示明确发生。**$=0$表示明为随机事件**"
   ]
  },
  {
   "cell_type": "markdown",
   "metadata": {},
   "source": [
    "对数概率不像概率被限定在$[0,1]$之间, 使计算变的更简单。"
   ]
  }
 ],
 "metadata": {
  "kernelspec": {
   "display_name": "Python [conda env:keraspy36]",
   "language": "python",
   "name": "conda-env-keraspy36-py"
  },
  "language_info": {
   "codemirror_mode": {
    "name": "ipython",
    "version": 3
   },
   "file_extension": ".py",
   "mimetype": "text/x-python",
   "name": "python",
   "nbconvert_exporter": "python",
   "pygments_lexer": "ipython3",
   "version": "3.6.4"
  }
 },
 "nbformat": 4,
 "nbformat_minor": 2
}
