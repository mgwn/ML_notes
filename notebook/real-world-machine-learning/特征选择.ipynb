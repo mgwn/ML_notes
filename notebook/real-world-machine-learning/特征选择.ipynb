{
 "cells": [
  {
   "cell_type": "markdown",
   "metadata": {},
   "source": [
    "### 平衡特征集数量的实用方法："
   ]
  },
  {
   "cell_type": "markdown",
   "metadata": {},
   "source": [
    "1. 包含所有你认为对目标变量有预测的特征。选择一种模型，如果准确性足够，则停止。\n",
    "1. 否则，扩大特征集，包含关系较弱的一些。选择另一模型并评估准确性。性能足够，则停止\n",
    "1. 否则，从扩大的特征集开始，运行特征选择算法来选择最好的、最有预测性的特征集的子集"
   ]
  },
  {
   "cell_type": "markdown",
   "metadata": {},
   "source": [
    "### 前向选择"
   ]
  },
  {
   "cell_type": "markdown",
   "metadata": {},
   "source": [
    "对于较小的特征集，或者需要允许的循环次数较少时（如，模型准确性增长迅速、平稳），在实用中还是很有效的"
   ]
  },
  {
   "cell_type": "markdown",
   "metadata": {},
   "source": [
    "![5-9 前向特征选取过程](./figure/5-9.png)"
   ]
  },
  {
   "cell_type": "markdown",
   "metadata": {},
   "source": [
    "### 反向消除"
   ]
  },
  {
   "cell_type": "markdown",
   "metadata": {},
   "source": [
    "有些算法，对于太小的特征集表现不佳，反向消除是较好的选择"
   ]
  },
  {
   "cell_type": "markdown",
   "metadata": {},
   "source": [
    "![5-10反向特征消除过程](./figure/5-10.png)"
   ]
  },
  {
   "cell_type": "markdown",
   "metadata": {},
   "source": [
    "### 特征选择的可视化方法"
   ]
  },
  {
   "cell_type": "markdown",
   "metadata": {},
   "source": [
    "画出执行过程的垂直条形图"
   ]
  },
  {
   "cell_type": "markdown",
   "metadata": {},
   "source": [
    "![5-11 迭代特征选择的条形图](./figure/5-11.png)"
   ]
  }
 ],
 "metadata": {
  "kernelspec": {
   "display_name": "Python [default]",
   "language": "python",
   "name": "python3"
  },
  "language_info": {
   "codemirror_mode": {
    "name": "ipython",
    "version": 3
   },
   "file_extension": ".py",
   "mimetype": "text/x-python",
   "name": "python",
   "nbconvert_exporter": "python",
   "pygments_lexer": "ipython3",
   "version": "3.6.4"
  }
 },
 "nbformat": 4,
 "nbformat_minor": 2
}
