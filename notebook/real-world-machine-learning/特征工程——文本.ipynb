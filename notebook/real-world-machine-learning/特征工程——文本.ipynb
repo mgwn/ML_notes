{
 "cells": [
  {
   "cell_type": "markdown",
   "metadata": {},
   "source": [
    "# 特征工程——文本"
   ]
  },
  {
   "cell_type": "markdown",
   "metadata": {},
   "source": [
    "**_需要注意，大部分的机器学习算法不能很好的处理稀疏数据_**"
   ]
  },
  {
   "cell_type": "markdown",
   "metadata": {},
   "source": [
    "### 词袋模型"
   ]
  },
  {
   "cell_type": "markdown",
   "metadata": {},
   "source": [
    "###### 划分和转换 (tokenization and transformation)"
   ]
  },
  {
   "cell_type": "markdown",
   "metadata": {},
   "source": [
    "tokenization  \n",
    "拆分后每个分组称为n-grams. 2个组合bigrams, 3个组合trigrams是出了单个unigrams之外常用的组合"
   ]
  },
  {
   "cell_type": "markdown",
   "metadata": {},
   "source": [
    "transformation  \n",
    "处理大小写，取词干(stemming)、自定义数字、标点符号和特征字符处理等"
   ]
  },
  {
   "cell_type": "markdown",
   "metadata": {},
   "source": [
    "###### 向量化"
   ]
  },
  {
   "cell_type": "markdown",
   "metadata": {},
   "source": [
    "***Tips: 通常删除终止词的做法是，删除出现次数高于阈值的所有单词（典型选择是90%）***"
   ]
  },
  {
   "cell_type": "markdown",
   "metadata": {},
   "source": [
    "### 主题建模"
   ]
  },
  {
   "cell_type": "markdown",
   "metadata": {},
   "source": [
    "###### 词频逆向文件频率(tf-idf)"
   ]
  },
  {
   "cell_type": "markdown",
   "metadata": {},
   "source": [
    "$tf - idf(term, doc, docs) = count(term in doc)\\frac{count(docs)}{count(docs with term)}$"
   ]
  },
  {
   "cell_type": "markdown",
   "metadata": {},
   "source": [
    "tf计次的常用方法有：\n",
    "* 单词在文档中出现的次数\n",
    "* 二进制版， 出现记1，否则为0\n",
    "* 对数版 ($1 + \\log[tf]$)"
   ]
  },
  {
   "cell_type": "markdown",
   "metadata": {},
   "source": [
    "###### 潜在语义索引LSI (或称潜在语义分析LSA)"
   ]
  },
  {
   "cell_type": "markdown",
   "metadata": {},
   "source": [
    "1. 通过词袋计数，构建词语-文档模型，行为属于，列为文档\n",
    "1. tf-idf或其他标准化方法，避免高频词，获得最值得词语-文档矩阵$A$\n",
    "1. 奇异值分解(SVD),将词语-文档$A$分解为$T$术语-概念矩阵 $S$奇异值 $D$概念-文档矩阵\n",
    "1. 选择最顶端的$N$个奇异值，取$D$中对应的行产生$N$个特征"
   ]
  },
  {
   "cell_type": "markdown",
   "metadata": {},
   "source": [
    "对于新文档， $D = A^TTS^{-1}$产生新的特征， 其中$A^T$为使用字典对新文档的单词计数（或tf-idf)"
   ]
  },
  {
   "cell_type": "markdown",
   "metadata": {},
   "source": [
    "###### 概率方法(probablilistic methods)"
   ]
  },
  {
   "cell_type": "markdown",
   "metadata": {},
   "source": [
    "pLSA是用概率对LSA进行模拟，一个广泛使用的版本是潜在狄利克雷分析(LDA)，它基于一个假设：文档可以由较小的主题集进行描述，以及任意术语（单词）都可以归结为一个主题。 在实际使用中对于各种数据集LDA都表现的很好。"
   ]
  },
  {
   "cell_type": "markdown",
   "metadata": {},
   "source": [
    "### 内容拓展"
   ]
  },
  {
   "cell_type": "markdown",
   "metadata": {},
   "source": [
    "###### 跟踪链接"
   ]
  },
  {
   "cell_type": "markdown",
   "metadata": {},
   "source": [
    "通过深入跟踪文本中的web链接构建更大的文本语料库"
   ]
  },
  {
   "cell_type": "markdown",
   "metadata": {},
   "source": [
    "###### 基于知识的拓展"
   ]
  },
  {
   "cell_type": "markdown",
   "metadata": {},
   "source": [
    "检测文本中的命名实体，并利用在线的命名实体知识库来扩展原始文本信息。"
   ]
  },
  {
   "cell_type": "markdown",
   "metadata": {},
   "source": [
    "###### 文本元特征（meta-features)"
   ]
  },
  {
   "cell_type": "markdown",
   "metadata": {},
   "source": [
    "如主题标签，收藏zhuan'fa'shu"
   ]
  }
 ],
 "metadata": {
  "kernelspec": {
   "display_name": "Python [conda env:keraspy36]",
   "language": "python",
   "name": "conda-env-keraspy36-py"
  },
  "language_info": {
   "codemirror_mode": {
    "name": "ipython",
    "version": 3
   },
   "file_extension": ".py",
   "mimetype": "text/x-python",
   "name": "python",
   "nbconvert_exporter": "python",
   "pygments_lexer": "ipython3",
   "version": "3.6.4"
  }
 },
 "nbformat": 4,
 "nbformat_minor": 2
}
