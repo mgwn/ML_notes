{
 "cells": [
  {
   "cell_type": "markdown",
   "metadata": {},
   "source": [
    "# 模型评估——回归"
   ]
  },
  {
   "cell_type": "markdown",
   "metadata": {},
   "source": [
    "画出预测值和真实值的散点图是评估指标的基础。 对角线为最佳模型\n",
    "![4-22 散点图](./figure/4-22.png)"
   ]
  },
  {
   "cell_type": "markdown",
   "metadata": {},
   "source": [
    "### 指标"
   ]
  },
  {
   "cell_type": "markdown",
   "metadata": {},
   "source": [
    "RMSE(均方根误差，MSE的平方根)。优点是结果与计算的值有相同的单位，缺点是和问题规模有关，**不容易在不同的数据集上进行比较**"
   ]
  },
  {
   "cell_type": "markdown",
   "metadata": {},
   "source": [
    "$RMSE = \\frac{1}{\\sqrt{n}}\\sqrt{\\sum [y_i - f(x_i)]^2} = \\sqrt{\\frac{散点图中点到模型线的距离的平方和}{测试集数量}}$"
   ]
  },
  {
   "cell_type": "markdown",
   "metadata": {},
   "source": [
    "$R^2$指标：具有相对性，在0~1之间。模型越好，越接近1"
   ]
  },
  {
   "cell_type": "markdown",
   "metadata": {},
   "source": [
    "$R^2 = \\frac{\\sum [y_i - f(x_i)]^2}{\\sum [y_i - mean(y)]^2}$"
   ]
  },
  {
   "cell_type": "markdown",
   "metadata": {},
   "source": [
    "评价指标应尽量与要解决的问题保持一致"
   ]
  },
  {
   "cell_type": "markdown",
   "metadata": {},
   "source": [
    "### 检验残差"
   ]
  },
  {
   "cell_type": "markdown",
   "metadata": {},
   "source": [
    "残差： 预测值与真实值之间的距离。理想的残差值在0附近分布均匀"
   ]
  },
  {
   "cell_type": "markdown",
   "metadata": {},
   "source": [
    "![4-24 残差](./figure/4-24.png)"
   ]
  }
 ],
 "metadata": {
  "kernelspec": {
   "display_name": "Python [conda env:keraspy36]",
   "language": "python",
   "name": "conda-env-keraspy36-py"
  },
  "language_info": {
   "codemirror_mode": {
    "name": "ipython",
    "version": 3
   },
   "file_extension": ".py",
   "mimetype": "text/x-python",
   "name": "python",
   "nbconvert_exporter": "python",
   "pygments_lexer": "ipython3",
   "version": "3.6.4"
  }
 },
 "nbformat": 4,
 "nbformat_minor": 2
}
