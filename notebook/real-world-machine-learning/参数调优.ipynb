{
 "cells": [
  {
   "cell_type": "markdown",
   "metadata": {},
   "source": [
    "# 参数调优"
   ]
  },
  {
   "cell_type": "markdown",
   "metadata": {},
   "source": [
    "### 强力网络搜索(grid search)"
   ]
  },
  {
   "cell_type": "markdown",
   "metadata": {},
   "source": [
    "1. 选择要最大化的评价指标\n",
    "2. 选择算法\n",
    "3. 选择需要调整的参数，以及每个参数的一组测试值\n",
    "4. 定义调整参数数组之间的笛卡尔积作为网络。例如，参数1为[50,100,1000], 参数2位[10,15]，则网络为[(50,10),(50,15),(100,10),(100,15),(1000,10),(1000,15)]。即以需要调整的参数构成不同坐标轴构成的网格\n",
    "5. 对每一个组合，进行训练预测计算评价指标\n",
    "6. 选择指标最大化的参数组合"
   ]
  },
  {
   "cell_type": "markdown",
   "metadata": {},
   "source": [
    "可以通过搜索网格的等高线来判断和调整网格参数"
   ]
  },
  {
   "cell_type": "markdown",
   "metadata": {},
   "source": [
    "![4-25 网格等高线](./figure/4-25.png)"
   ]
  },
  {
   "cell_type": "markdown",
   "metadata": {},
   "source": [
    "* 最大值在网格的边界， 必须扩大网格重新开始\n",
    "* 可判断出某个参数高度敏感（如图中gamma）， 需要增加该参数的力度\n",
    "* 最大值出现在0附件（图中gamma), 以指数标识(如$10^{-4}$、$10^{-3}$、$10^{-2}$、$10^{-1}$)表示更明智\n",
    "* "
   ]
  },
  {
   "cell_type": "code",
   "execution_count": null,
   "metadata": {},
   "outputs": [],
   "source": []
  }
 ],
 "metadata": {
  "kernelspec": {
   "display_name": "Python [conda env:keraspy36]",
   "language": "python",
   "name": "conda-env-keraspy36-py"
  },
  "language_info": {
   "codemirror_mode": {
    "name": "ipython",
    "version": 3
   },
   "file_extension": ".py",
   "mimetype": "text/x-python",
   "name": "python",
   "nbconvert_exporter": "python",
   "pygments_lexer": "ipython3",
   "version": "3.6.4"
  }
 },
 "nbformat": 4,
 "nbformat_minor": 2
}
